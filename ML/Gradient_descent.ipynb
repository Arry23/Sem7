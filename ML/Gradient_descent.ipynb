{
  "metadata": {
    "language_info": {
      "codemirror_mode": {
        "name": "python",
        "version": 3
      },
      "file_extension": ".py",
      "mimetype": "text/x-python",
      "name": "python",
      "nbconvert_exporter": "python",
      "pygments_lexer": "ipython3",
      "version": "3.8"
    },
    "kernelspec": {
      "name": "python",
      "display_name": "Python (Pyodide)",
      "language": "python"
    }
  },
  "nbformat_minor": 4,
  "nbformat": 4,
  "cells": [
    {
      "cell_type": "code",
      "source": "import numpy as np\nimport pandas as pd\nimport sympy as sym\nimport matplotlib as pyplot\nfrom matplotlib import pyplot\n",
      "metadata": {
        "trusted": true
      },
      "execution_count": 1,
      "outputs": []
    },
    {
      "cell_type": "code",
      "source": "def objective(x):\n    return (x+3)**2\n",
      "metadata": {
        "trusted": true
      },
      "execution_count": 2,
      "outputs": []
    },
    {
      "cell_type": "code",
      "source": "def derivative(x):\n    return 2*(x+3)",
      "metadata": {
        "trusted": true
      },
      "execution_count": 3,
      "outputs": []
    },
    {
      "cell_type": "code",
      "source": "def gradient(alpha,start,max_iter):\n    x_list=list()\n    x=start\n    x_list.append(x)\n    for i in range(max_iter):\n        gradi=derivative(x)\n        x=x-(alpha*gradi)\n        x_list.append(x)\n    return x_list\nx=sym.symbols('x')\nexpr=(x+3)**2.0\ngrad=sym.Derivative(expr,x)\nprint(\"{}\".format(grad.doit()))\ngrad.doit().subs(x,2)",
      "metadata": {
        "trusted": true
      },
      "execution_count": 4,
      "outputs": [
        {
          "name": "stdout",
          "text": "2.0*(x + 3)**1.0\n",
          "output_type": "stream"
        },
        {
          "execution_count": 4,
          "output_type": "execute_result",
          "data": {
            "text/plain": "10.0000000000000",
            "text/latex": "$\\displaystyle 10.0$"
          },
          "metadata": {}
        }
      ]
    },
    {
      "cell_type": "code",
      "source": "alpha=0.1\nstart=2\nmax_iter=30\nx=sym.symbols('x')\nexpr=(x+3)**2",
      "metadata": {
        "trusted": true
      },
      "execution_count": 5,
      "outputs": []
    },
    {
      "cell_type": "code",
      "source": "x_cor=np.linspace(-15,15,100)\npyplot.plot(x_cor,objective(x_cor))\npyplot.plot(2,objective(2),'ro')",
      "metadata": {
        "trusted": true
      },
      "execution_count": 6,
      "outputs": [
        {
          "execution_count": 6,
          "output_type": "execute_result",
          "data": {
            "text/plain": "[<matplotlib.lines.Line2D at 0x467d170>]"
          },
          "metadata": {}
        }
      ]
    },
    {
      "cell_type": "code",
      "source": "x_cor=np.linspace(-15,15,100)\npyplot.plot(x_cor,objective(x_cor))\npyplot.plot(2,objective(2),'ro')",
      "metadata": {
        "trusted": true
      },
      "execution_count": 7,
      "outputs": [
        {
          "execution_count": 7,
          "output_type": "execute_result",
          "data": {
            "text/plain": "[<matplotlib.lines.Line2D at 0x4c80670>]"
          },
          "metadata": {}
        }
      ]
    },
    {
      "cell_type": "code",
      "source": "x=gradient(alpha,start,max_iter)\nx_cor=np.linspace(-5,5,100)\npyplot.plot(x_cor,objective(x_cor))\n\nx_arr=np.array(x)\npyplot.plot(x_arr,objective(x_arr),'.-',color='red')\npyplot.show()",
      "metadata": {
        "trusted": true
      },
      "execution_count": 8,
      "outputs": [
        {
          "output_type": "display_data",
          "data": {
            "text/plain": "<pyolite.display.Image at 0x490bce8>",
            "image/png": "[encoded data removed]"
          },
          "metadata": {}
        }
      ]
    },
    {
      "cell_type": "code",
      "source": "x_cor=np.linspace(-15,15,100)\npyplot.plot(x_cor,objective(x_cor))\npyplot.plot(2,objective(2),'ro')",
      "metadata": {
        "trusted": true
      },
      "execution_count": 9,
      "outputs": [
        {
          "execution_count": 9,
          "output_type": "execute_result",
          "data": {
            "text/plain": "[<matplotlib.lines.Line2D at 0x4f05178>]"
          },
          "metadata": {}
        }
      ]
    },
    {
      "cell_type": "code",
      "source": "",
      "metadata": {},
      "execution_count": null,
      "outputs": []
    }
  ]
}